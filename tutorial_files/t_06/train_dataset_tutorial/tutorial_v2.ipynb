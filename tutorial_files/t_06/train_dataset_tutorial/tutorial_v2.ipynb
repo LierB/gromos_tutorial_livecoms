{
 "cells": [
  {
   "attachments": {},
   "cell_type": "markdown",
   "metadata": {},
   "source": [
    "# BuRNN tutorial: Preparing of the training dataset and NN model training\n",
    "\n",
    "In this tutorial, methanol in water is used as the model system. In the context of BuRNN, we will have methanol in the inner region, while water molecules in the 0.5 nm radius around the methanol will form the buffer region. The rest of the box will be the outer region. The focus of the tutorial will be the generation of the training data set and the training of the neural network (NN) model.\n",
    "\n",
    "## Training dataset preparation\n",
    "\n",
    "### Building ASE database\n",
    "Our QM data needs to be stored in the [ASE databse](https://wiki.fysik.dtu.dk/ase/ase/db/db.html) to be read by SchNetPack (the software we are going to use to train the NN model).In the following part of the tutorial we will build ASE database from our training snapshots, then the database will be used for NN model training. For that purpose we will use in-house made module additional_spk_utils. Firstly, we will need additional_spk_utils.Build_AseDb_From_Mopac_Aux class to create an ASE database. The class takes the following arguments:\n",
    "- complex_path = path to the mopac output files with the whole QM regions (inner + buffer regions, in our case MOPAC_results/minimization/buffer_pls_inner/aux_out)\n",
    "- buffer_path = path to the mopac output files with the buffer regions (in our case MOPAC_results/minimization/buffer/aux_out)\n",
    "- inner_region_size = number of atoms in the inner region\n",
    "- db_name = name of the resulting ASE dataset\n",
    "- db_properties = The properties which will be stored in the database (in our case: complex energy, buffer energy, energy (to be predicted), forces). Energy and forces are mandatory for the BuRNN approach\n",
    "- metadata = metadata\n",
    "- reference_energies = reference energies (energies in vacuum) for all the components in the QM region.\n",
    "\n",
    "### Energy Normalization\n",
    "Here it is good time to describe the last argument reference_energies more in detail. As was mentioned above, in the BuRNN approach we use NN model to predict interaction energy between inner and buffer region in stead of the absolute energy (see [original BuRNN paper](https://pubs.acs.org/doi/full/10.1021/acs.jpclett.2c00654)). The reference energies are used to calculate the interaction energy. Now consider the example. We have inner + buffer region composed of Methanol (inner region) and 15 water molecules (buffer region). Interaction energy is calculate in the following way:\n",
    "- The absolute energies for inner + buffer regions and buffer regions were calculated by MOPAC.\n",
    "- The first number in reference_energies argument coresponds to the energy of Methanol in vacuum, whereas the second represents the energy of one water molecule in vacuum (both were calculated by MOPAC).\n",
    "- Firstly we sum the energies of the individual components of both regions (inner + buffer and buffer) in vacuum.\n",
    "- for our example the summation is done in the following way:\n",
    "    - inner + buffer region = reference energy of Methanol + 15 * reference energy of water molecule\n",
    "    - buffer region = 15 * reference energy of water molecule\n",
    "- The energies calculetad in the previous step are then subtracted from the original energies calculated MOPAC.\n",
    "\n",
    "What did we get in the last step? We got the interaction energies. For the inner + buffer region we got the interaction energies between methanol and between water molecules themselves. For the buffer region we got the interaction energy between water molecules only. By subtracting these two numbers we obtained the interaction energy between methanol and water molecules (i.e. between the inner and buffer regions). This number is hidden under the name energy in the db_properties argument. A similar procedure is done for the forces. The difference is that in case of forces we are interested in atomic contributions. Therefore, the normalization of the forces is done by subtracting the values for the inner + buffer region and the buffer region. The values for the inner region are passed without subtraction (they are not in the buffer region, so there is nothing to subtract). The subtracted values are hidden behind the name forces in the db_properties argument."
   ]
  },
  {
   "cell_type": "code",
   "execution_count": 1,
   "metadata": {},
   "outputs": [],
   "source": [
    "import additional_spk_utils\n",
    "import os"
   ]
  },
  {
   "attachments": {},
   "cell_type": "markdown",
   "metadata": {},
   "source": [
    "class additional_spk_utils.Build_AseDb_From_Mopac_Aux also takes the argument metadata, where you can describe the database. It is good to provide important information about the database to make it clear for other users or for yourself in the future."
   ]
  },
  {
   "cell_type": "code",
   "execution_count": 2,
   "metadata": {},
   "outputs": [],
   "source": [
    "# Example of dataset description\n",
    "metadata = {'System' : 'MeOH in water',\n",
    "            'num. of structures' : 860,\n",
    "            'QM software' : 'MOPAC',\n",
    "            'Energy minimization': 'Yes',\n",
    "            'clustering' : 'No',\n",
    "            'Energy units' : 'kcal/mol',\n",
    "            'Force units' : 'kcal/mol/Angstrom',\n",
    "            'distance units' : 'Angstrom'}"
   ]
  },
  {
   "cell_type": "code",
   "execution_count": 3,
   "metadata": {},
   "outputs": [],
   "source": [
    "# building of ASE database\n",
    "# NOTE: the program will remove the previous ASE database of the same name specified in db_name argument\n",
    "additional_spk_utils.Build_AseDb_From_Mopac_Aux(complex_path=os.path.join('.', 'QM_dataset_example', 'inner_plus_buffer_region'),\n",
    "                                                buffer_path=os.path.join('.', 'QM_dataset_example', 'buffer_region'),\n",
    "                                                db_name='meoh_trial.db', \n",
    "                                                db_properties=['complex_energy', 'buffer_energy', 'energy', 'forces'], \n",
    "                                                inner_region_size=6, \n",
    "                                                reference_energies=[-48.9383958635117, -57.7996759075731],\n",
    "                                                metadata=metadata).build_db()"
   ]
  },
  {
   "cell_type": "code",
   "execution_count": 4,
   "metadata": {},
   "outputs": [
    {
     "name": "stdout",
     "output_type": "stream",
     "text": [
      "Number of structures: 860\n",
      "Interaction energy for the first structure: -19.37 kcal/mol\n"
     ]
    }
   ],
   "source": [
    "# to check that the database was created\n",
    "db = additional_spk_utils.Build_AseDb(load_existing_database=True, db_name='meoh_trial.db').create_db()\n",
    "print(f'Number of structures: {len(db)}')\n",
    "print(f'Interaction energy for the first structure: {db.__getitem__(0)[\"energy\"][0]:.2f} kcal/mol')"
   ]
  },
  {
   "cell_type": "code",
   "execution_count": 5,
   "metadata": {},
   "outputs": [
    {
     "data": {
      "text/plain": [
       "{'System': 'MeOH in water',\n",
       " 'num. of structures': 860,\n",
       " 'QM software': 'MOPAC',\n",
       " 'Energy minimization': 'Yes',\n",
       " 'clustering': 'No',\n",
       " 'Energy units': 'kcal/mol',\n",
       " 'Force units': 'kcal/mol/Angstrom',\n",
       " 'distance units': 'Angstrom'}"
      ]
     },
     "execution_count": 5,
     "metadata": {},
     "output_type": "execute_result"
    }
   ],
   "source": [
    "# show metadata\n",
    "db.get_metadata()"
   ]
  },
  {
   "attachments": {},
   "cell_type": "markdown",
   "metadata": {},
   "source": [
    "## Model training"
   ]
  },
  {
   "cell_type": "markdown",
   "metadata": {},
   "source": [
    "Dataset of the training structures was generated in the previous chapters. Now we can proceed to the training of the NN model (machine learned potential). Oue model will be based on the [SchNet](https://pubs.aip.org/aip/jcp/article-abstract/148/24/241722/962591/SchNet-A-deep-learning-architecture-for-molecules?redirectedFrom=fulltext) architecture. For the training of the model we will use [SchNetPack](https://pubs.acs.org/doi/10.1021/acs.jctc.8b00908) package. \n",
    "\n",
    "\n",
    "In practice, the SchNet model can be trained using the Python script provided with the SchNetPack package, spk_run.py. To do so, here we will use an additional bash script train.sh, which is already prepared for you. The script will run spk_run.py with the specified arguments. spk_run.py takes the following arguments:\n",
    "- positional arguments:\n",
    "    - mode: str=train\n",
    "    - architecture: str=schnet\n",
    "    - dataset: str=custom \n",
    "    - datapath: str, path to the ASE database\n",
    "    - modelpath: str, path to the model to be created\n",
    "- optional arguments:\n",
    "    - --help\n",
    "    - --cuda = use Nvidia GPU for training\n",
    "    - --parallel = parallel training on more GPUs\n",
    "    - --seed = random seed for torch and numpy\n",
    "    - --overwrite = remove previous model directory\n",
    "    - --split_path = path to your own npz file with data split\n",
    "    - --split = train, validation split; the rest of the dataset is used for testing\n",
    "    - --max_epochs = maximum number of training epochs (default 5000)\n",
    "    - --max_steps = maximum number of training steps (default None)\n",
    "    - --lr = learning rate (default 0.0001)\n",
    "    - --lr_decay = learning rate decay (default 0.8)\n",
    "    - --lr_min = minimal learning rate (default 1e-06)\n",
    "    - --lr_patience = epochs without improvement before reducing the learning rate (default 25)\n",
    "    - --logger = logger (default csv)\n",
    "    - --log_every_n_epochs = log metrics every given number of epochs (default 1)\n",
    "    - --check_point_interval = store checkpoint every n epochs (default 1)\n",
    "    - --keep_n_checkpoints = number of checkpoints that will be stored (default 3)\n",
    "    - --environment_provider_device = It is recommended to use CPU (default cpu)\n",
    "    - --features = number of atomwise features (default 128)\n",
    "    - --interactions = number of interaction blocks (default 3)\n",
    "    - --cutoff_function = default cosine\n",
    "    - --num_gaussians = number of gaussians to expand distances (default 50)\n",
    "    - --normalize_filter = normalize convolution filters by number of neighbors\n",
    "    - --property = property to be predicted (default energy)\n",
    "    - --cutoff = cutoff (default 10.0)\n",
    "    - --batch_size = batch size (default 100)\n",
    "    - --environment_provider = environment provider for the dataset (default simple)\n",
    "    - --derivative = derivative of the property to be predicted (default None)\n",
    "    - --negative_dr = multiply derivatives by -1 for training (when forces are provided instead of gradients, default False)\n",
    "    - --force = name of force property in the dataset (alias for the derivative + negative_dr, default None)\n",
    "    - --contributions = contributions of dataset property to be predicted (default None)\n",
    "    - --stress = train on stress tensor if not None (default None)\n",
    "    - --aggregation_mode = mode for aggregating atomix properties (default sum)\n",
    "    - --output_module = select output module for the selected property (default atomwise)\n",
    "    - --rho = tradeoff weights between property and derivative (default {})"
   ]
  },
  {
   "cell_type": "markdown",
   "metadata": {},
   "source": []
  }
 ],
 "metadata": {
  "kernelspec": {
   "display_name": "spk_py30912",
   "language": "python",
   "name": "python3"
  },
  "language_info": {
   "codemirror_mode": {
    "name": "ipython",
    "version": 3
   },
   "file_extension": ".py",
   "mimetype": "text/x-python",
   "name": "python",
   "nbconvert_exporter": "python",
   "pygments_lexer": "ipython3",
   "version": "3.9.12"
  }
 },
 "nbformat": 4,
 "nbformat_minor": 4
}
